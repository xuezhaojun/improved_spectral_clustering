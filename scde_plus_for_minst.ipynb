{
 "metadata": {
  "language_info": {
   "codemirror_mode": {
    "name": "ipython",
    "version": 3
   },
   "file_extension": ".py",
   "mimetype": "text/x-python",
   "name": "python",
   "nbconvert_exporter": "python",
   "pygments_lexer": "ipython3",
   "version": "3.8.6-final"
  },
  "orig_nbformat": 2,
  "kernelspec": {
   "name": "python3",
   "display_name": "Python 3"
  }
 },
 "nbformat": 4,
 "nbformat_minor": 2,
 "cells": [
  {
   "cell_type": "code",
   "execution_count": 15,
   "metadata": {},
   "outputs": [],
   "source": [
    "import numpy as np\n",
    "import scde\n",
    "import datasets as ds\n",
    "import estimate_k as ek"
   ]
  },
  {
   "cell_type": "code",
   "execution_count": 16,
   "metadata": {},
   "outputs": [],
   "source": [
    "x_train,lable = ds.get_mnist()\n",
    "x_train = x_train.astype('float32') / 255.\n",
    "x_train = x_train.reshape((len(x_train), np.prod(x_train.shape[1:]))) # make 28*28 img to 784 demission matrix"
   ]
  },
  {
   "cell_type": "code",
   "execution_count": 31,
   "metadata": {},
   "outputs": [
    {
     "output_type": "stream",
     "name": "stdout",
     "text": [
      "Epoch 1/5\n",
      " 41/235 [====>.........................] - ETA: 11s - loss: 0.0000e+00"
     ]
    }
   ],
   "source": [
    "# estimate k by softmax\n",
    "result = ek.estimate_mnist(20,x_train)"
   ]
  },
  {
   "cell_type": "code",
   "execution_count": 18,
   "metadata": {},
   "outputs": [
    {
     "output_type": "stream",
     "name": "stdout",
     "text": [
      "19\n"
     ]
    }
   ],
   "source": [
    "k = ek.get_k_from_result(20,result)\n",
    "print(k)"
   ]
  },
  {
   "cell_type": "code",
   "execution_count": 30,
   "metadata": {},
   "outputs": [
    {
     "output_type": "stream",
     "name": "stdout",
     "text": [
      "60000\n3000.0\n{8: 21554, 13: 1865, 5: 12675, 4: 14798, 19: 1105, 16: 3616, 18: 166, 10: 472, 7: 506, 12: 1306, 15: 529, 2: 190, 3: 296, 11: 105, 0: 28, 14: 341, 6: 197, 17: 204, 9: 47}\n21554\n1865\n12675\n14798\n1105\n3616\n506\n1306\n529\n9\n"
     ]
    }
   ],
   "source": [
    "def get_k_from_result(result,unpper_bound):\n",
    "    # count for k\n",
    "    max_indexs = {}\n",
    "    for ps in result:\n",
    "        max_index = 0\n",
    "        index = 0\n",
    "        max_value = ps[0]\n",
    "        for p in ps:\n",
    "            if p > max_value:\n",
    "                max_value = p\n",
    "                max_index = index\n",
    "            index += 1\n",
    "        if max_indexs.get(max_index) == None:\n",
    "            max_indexs[max_index] = 1\n",
    "        else:\n",
    "            max_indexs[max_index] += 1\n",
    "    count = 0\n",
    "    print(len(result))\n",
    "    print((1/unpper_bound)*len(result))\n",
    "    print(max_indexs)\n",
    "    for _,v in max_indexs.items():\n",
    "        if v > 500:\n",
    "            print(v)\n",
    "            count+=1\n",
    "    return count\n",
    "print(get_k_from_result(result,20))"
   ]
  },
  {
   "cell_type": "code",
   "execution_count": 21,
   "metadata": {},
   "outputs": [
    {
     "output_type": "stream",
     "name": "stdout",
     "text": [
      "Epoch 1/50\n",
      "235/235 [==============================] - 2s 9ms/step - loss: 56.9549\n",
      "Epoch 2/50\n",
      "235/235 [==============================] - 2s 10ms/step - loss: 35.8508\n",
      "Epoch 3/50\n",
      "235/235 [==============================] - 2s 10ms/step - loss: 28.6332\n",
      "Epoch 4/50\n",
      "235/235 [==============================] - 2s 10ms/step - loss: 24.5628\n",
      "Epoch 5/50\n",
      "235/235 [==============================] - 2s 10ms/step - loss: 21.8212\n",
      "Epoch 6/50\n",
      "235/235 [==============================] - 2s 10ms/step - loss: 19.7335\n",
      "Epoch 7/50\n",
      "235/235 [==============================] - 3s 11ms/step - loss: 18.0432\n",
      "Epoch 8/50\n",
      "235/235 [==============================] - 2s 10ms/step - loss: 16.6266\n",
      "Epoch 9/50\n",
      "235/235 [==============================] - 2s 10ms/step - loss: 15.4218\n",
      "Epoch 10/50\n",
      "235/235 [==============================] - 2s 10ms/step - loss: 14.4134\n",
      "Epoch 11/50\n",
      "235/235 [==============================] - 2s 10ms/step - loss: 13.5804\n",
      "Epoch 12/50\n",
      "235/235 [==============================] - 2s 10ms/step - loss: 12.8977\n",
      "Epoch 13/50\n",
      "235/235 [==============================] - 2s 10ms/step - loss: 12.3336\n",
      "Epoch 14/50\n",
      "235/235 [==============================] - 3s 12ms/step - loss: 11.8575\n",
      "Epoch 15/50\n",
      "235/235 [==============================] - 3s 11ms/step - loss: 11.4570\n",
      "Epoch 16/50\n",
      "235/235 [==============================] - 2s 11ms/step - loss: 11.1202\n",
      "Epoch 17/50\n",
      "235/235 [==============================] - 2s 10ms/step - loss: 10.8359\n",
      "Epoch 18/50\n",
      "235/235 [==============================] - 2s 10ms/step - loss: 10.5949\n",
      "Epoch 19/50\n",
      "235/235 [==============================] - 2s 10ms/step - loss: 10.3871\n",
      "Epoch 20/50\n",
      "235/235 [==============================] - 2s 10ms/step - loss: 10.2079\n",
      "Epoch 21/50\n",
      "235/235 [==============================] - 2s 10ms/step - loss: 10.0504\n",
      "Epoch 22/50\n",
      "235/235 [==============================] - 2s 9ms/step - loss: 9.9087\n",
      "Epoch 23/50\n",
      "235/235 [==============================] - 2s 10ms/step - loss: 9.7805\n",
      "Epoch 24/50\n",
      "235/235 [==============================] - 2s 10ms/step - loss: 9.6634\n",
      "Epoch 25/50\n",
      "235/235 [==============================] - 2s 10ms/step - loss: 9.5576\n",
      "Epoch 26/50\n",
      "235/235 [==============================] - 2s 10ms/step - loss: 9.4622\n",
      "Epoch 27/50\n",
      "235/235 [==============================] - 2s 10ms/step - loss: 9.3744\n",
      "Epoch 28/50\n",
      "235/235 [==============================] - 2s 10ms/step - loss: 9.2967\n",
      "Epoch 29/50\n",
      "235/235 [==============================] - 2s 10ms/step - loss: 9.2237\n",
      "Epoch 30/50\n",
      "235/235 [==============================] - 2s 9ms/step - loss: 9.1574\n",
      "Epoch 31/50\n",
      "235/235 [==============================] - 2s 10ms/step - loss: 9.0996\n",
      "Epoch 32/50\n",
      "235/235 [==============================] - 2s 10ms/step - loss: 9.0492\n",
      "Epoch 33/50\n",
      "235/235 [==============================] - 2s 10ms/step - loss: 9.0039\n",
      "Epoch 34/50\n",
      "235/235 [==============================] - 3s 11ms/step - loss: 8.9627\n",
      "Epoch 35/50\n",
      "235/235 [==============================] - 2s 10ms/step - loss: 8.9217\n",
      "Epoch 36/50\n",
      "235/235 [==============================] - 2s 9ms/step - loss: 8.8846\n",
      "Epoch 37/50\n",
      "235/235 [==============================] - 2s 10ms/step - loss: 8.8479\n",
      "Epoch 38/50\n",
      "235/235 [==============================] - 2s 10ms/step - loss: 8.8136\n",
      "Epoch 39/50\n",
      "235/235 [==============================] - 2s 10ms/step - loss: 8.7788\n",
      "Epoch 40/50\n",
      "235/235 [==============================] - 2s 10ms/step - loss: 8.7452\n",
      "Epoch 41/50\n",
      "235/235 [==============================] - 2s 10ms/step - loss: 8.7106\n",
      "Epoch 42/50\n",
      "235/235 [==============================] - 2s 10ms/step - loss: 8.6757\n",
      "Epoch 43/50\n",
      "235/235 [==============================] - 2s 10ms/step - loss: 8.6415\n",
      "Epoch 44/50\n",
      "235/235 [==============================] - 2s 10ms/step - loss: 8.6072\n",
      "Epoch 45/50\n",
      "235/235 [==============================] - 2s 9ms/step - loss: 8.5738\n",
      "Epoch 46/50\n",
      "235/235 [==============================] - 2s 10ms/step - loss: 8.5404\n",
      "Epoch 47/50\n",
      "235/235 [==============================] - 3s 11ms/step - loss: 8.5079\n",
      "Epoch 48/50\n",
      "235/235 [==============================] - 2s 10ms/step - loss: 8.4776\n",
      "Epoch 49/50\n",
      "235/235 [==============================] - 2s 10ms/step - loss: 8.4490\n",
      "Epoch 50/50\n",
      "235/235 [==============================] - 2s 9ms/step - loss: 8.4208\n",
      "begin sc clustering\n"
     ]
    }
   ],
   "source": [
    "# clustering\n",
    "sc_result = scde.clustering(x_train,10)"
   ]
  },
  {
   "cell_type": "code",
   "execution_count": 33,
   "metadata": {},
   "outputs": [
    {
     "output_type": "stream",
     "name": "stdout",
     "text": [
      "9\n4\n9\n9\n9\n9\n9\n9\n9\n4\n9\n4\n"
     ]
    }
   ],
   "source": [
    "# in first 100 points, all imgs in cluster 1\n",
    "for i in range(100):\n",
    "    if sc_result[i] == 9:\n",
    "        print(lable[i])  "
   ]
  }
 ]
}