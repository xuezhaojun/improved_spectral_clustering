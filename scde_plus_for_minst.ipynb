{
 "metadata": {
  "language_info": {
   "codemirror_mode": {
    "name": "ipython",
    "version": 3
   },
   "file_extension": ".py",
   "mimetype": "text/x-python",
   "name": "python",
   "nbconvert_exporter": "python",
   "pygments_lexer": "ipython3",
   "version": "3.8.6-final"
  },
  "orig_nbformat": 2,
  "kernelspec": {
   "name": "python3",
   "display_name": "Python 3"
  }
 },
 "nbformat": 4,
 "nbformat_minor": 2,
 "cells": [
  {
   "cell_type": "code",
   "execution_count": 2,
   "metadata": {},
   "outputs": [],
   "source": [
    "import numpy as np\n",
    "import clusters\n",
    "import datasets as ds\n",
    "import estimate_k as ek\n",
    "\n",
    "from sklearn.cluster import SpectralClustering"
   ]
  },
  {
   "cell_type": "code",
   "execution_count": 4,
   "metadata": {},
   "outputs": [],
   "source": [
    "# prepare for datasets\n",
    "\n",
    "# mnist\n",
    "mnist_train,_,mnist_test,mnist_test_lable = ds.get_mnist()\n",
    "mnist_train = mnist_train.astype('float32') / 255.\n",
    "mnist_train = mnist_train.reshape((len(mnist_train),np.prod(mnist_train.shape[1:]))) # make 28*28 img to 784 demission matrix\n",
    "mnist_test = mnist_test.astype('float32') / 255.\n",
    "mnist_test = mnist_test.reshape((len(mnist_test), np.prod(mnist_test.shape[1:])))\n",
    "\n",
    "# fashion mnist\n",
    "fashion_train,_,fashion_test,fashion_test_lable = ds.get_fashion_mnist()\n",
    "\n",
    "# reuters_8\n",
    "reuters_train,_, reuters_test,_ = ds.get_reuters_8()"
   ]
  },
  {
   "cell_type": "code",
   "execution_count": 2,
   "metadata": {},
   "outputs": [],
   "source": [
    "def process(train,test,true_k):\n",
    "    # DE\n",
    "    de_result = clusters.de(train,test) # train result is based on 'test', so clustering score should base on 'test' too\n",
    "    print(de_result.shape)\n",
    "\n",
    "    # SA\n",
    "    k = ek.get_k_from_result(20,ek.estimate_mnist(20, de_result,test))\n",
    "    print(\"estimate k :\")\n",
    "    print(k)\n",
    "\n",
    "    # SC clustering\n",
    "    sc = SpectralClustering(n_clusters=true_k, eigen_solver='arpack', affinity=\"nearest_neighbors\")\n",
    "    sc_result = sc.fit_predict(test)\n",
    "    score = clusters.score(sc_result)\n",
    "    print(\"sc score with true k:\")\n",
    "    print(score)\n",
    "\n",
    "    # SCDE clustering\n",
    "    sc = SpectralClustering(n_clusters=true_k, eigen_solver='arpack', affinity=\"nearest_neighbors\")\n",
    "    scde_result = sc.fit_predict(de_result)\n",
    "    score = clusters.score(scde_result,test)\n",
    "    print(\"scde score with true k:\")\n",
    "    print(score)\n",
    "\n",
    "    return"
   ]
  },
  {
   "cell_type": "code",
   "execution_count": null,
   "metadata": {},
   "outputs": [],
   "source": []
  }
 ]
}